{
  "nbformat": 4,
  "nbformat_minor": 0,
  "metadata": {
    "colab": {
      "provenance": []
    },
    "kernelspec": {
      "name": "python3",
      "display_name": "Python 3"
    },
    "language_info": {
      "name": "python"
    }
  },
  "cells": [
    {
      "cell_type": "markdown",
      "source": [
        "Q.1 . What are the five key concepts of Object-Oriented Programming (OOP)?\n"
      ],
      "metadata": {
        "id": "PX4WSYOI5MvH"
      }
    },
    {
      "cell_type": "markdown",
      "source": [
        "The following are the five fundamental ideas of Python's object-oriented programming (OOP):\n",
        "\n",
        "Class: A class is a blueprint used to create objects. It specifies the methods (functions) and attributes (data) that the objects derived from the class will possess. A Car class, for instance, might have methods like start() and stop() in addition to characteristics like color and model.\n",
        "\n",
        "Object: An instance of a class is an object. No memory is used when a class is defined until an object is made from it. The actual data and functionality specified in the class are stored in objects.\n",
        "\n",
        "Encapsulation is the process of merely providing a restricted interface while concealing an object's internal state and capabilities. Encapsulation in Python is accomplished by using access modifiers such as public,qualities or techniques that are secret and protected (e.g., prefixing with underscores).\n",
        "\n",
        "One way to create a new class that reuses, extends, or changes the behavior of an existing class is through inheritance. The parent class's methods and properties are passed down to the new class, often known as a child or subclass.\n",
        "\n",
        "The ability to use a common interface for several data types is known as polymorphism. It permits objects of several classes to be regarded as belonging to the same superclass. This is frequently used with operator overloading and method overriding in Python.\n",
        "\n",
        "These fundamental ideas support the use of OOP principles in the design of flexible, reusable, and well-structured code.The following are the five fundamental ideas of Python's object-oriented programming (OOP):\n",
        "\n",
        "Class: A class is a blueprint used to create objects. It outlines themethods (functions) and attributes (data) that the objects derived from the class will possess. A Car class, for instance, might have methods like start() and stop() in addition to characteristics like color and model.\n",
        "\n",
        "Object: An instance of a class is an object. No memory is used when a class is defined until an object is made from it. The actual data and functionality specified in the class are stored in objects.\n",
        "\n",
        "Encapsulation is the process of merely providing a restricted interface while concealing an object's internal state and capabilities. Access modifiers such as public, private, and protected attributes or methods (e.g., prefixing with underscores) are used in Python to ensure encapsulation.\n",
        "\n",
        "The process of establishing a new class by inheritance allows you to reuse, expand, oralters an existing class's behavior. The parent class's methods and properties are passed down to the new class, often known as a child or subclass.\n",
        "\n",
        "The ability to use a common interface for several data types is known as polymorphism. It permits objects of several classes to be regarded as belonging to the same superclass. This is frequently used with operator overloading and method overriding in Python.\n",
        "\n",
        "These fundamental ideas support the use of OOP principles in the design of flexible, reusable, and well-structured code."
      ],
      "metadata": {
        "id": "qMEJ_E_r5e-z"
      }
    },
    {
      "cell_type": "markdown",
      "source": [
        "Q.2 Write a Python class for a Car with attributes for make, model, and year. Include a method to display the car's information."
      ],
      "metadata": {
        "id": "ltRpZrpx58f0"
      }
    },
    {
      "cell_type": "code",
      "source": [
        "class Car:\n",
        "    def __init__(self, make, year, model):\n",
        "        \"\"\"Initialize the car's attributes.\"\"\"\n",
        "        self.make = make\n",
        "        self.year = year\n",
        "        self.model = model\n",
        "\n",
        "\n",
        "\n",
        "    def display_info(self):\n",
        "        \"\"\"Display the car's information.\"\"\"\n",
        "        print(f\"Car Information: {self.year} {self.make} {self.model}\")\n",
        "\n",
        "# Example usage:\n",
        "my_car = Car(\"BMW\", 2020 , \"Adventure\")\n",
        "my_car.display_info()\n"
      ],
      "metadata": {
        "colab": {
          "base_uri": "https://localhost:8080/"
        },
        "id": "2JbakHOE6A7s",
        "outputId": "46ac13f2-ddc6-4106-ab6a-258b7cb90dd0"
      },
      "execution_count": 1,
      "outputs": [
        {
          "output_type": "stream",
          "name": "stdout",
          "text": [
            "Car Information: 2020 BMW Adventure\n"
          ]
        }
      ]
    },
    {
      "cell_type": "markdown",
      "source": [
        "Q.3 Explain the difference between instance methods and class methods. Provide an example of each."
      ],
      "metadata": {
        "id": "lINVg7LB9RC6"
      }
    },
    {
      "cell_type": "markdown",
      "source": [
        "The two types of methods in object-oriented programming, especially Python, are called instance methods and class methods. Instance methods are the most common type of method and work on individual instances of a class. They take self as their first parameter, which represents the instance itself. Instance methods can call other instance methods and access and modify instance attributes, which are variables unique to each object of the class."
      ],
      "metadata": {
        "id": "btKuNZlG9UNi"
      }
    },
    {
      "cell_type": "code",
      "source": [
        "class Car:\n",
        "    car_count = 0\n",
        "\n",
        "    def __init__(self):\n",
        "        Car.car_count += 5\n",
        "\n",
        "    @classmethod\n",
        "    def total_cars(cls):\n",
        "        return f\"Total cars: {cls.car_count}\"\n",
        "\n",
        "car1 = Car()\n",
        "car2 = Car()\n",
        "print(Car.total_cars())  # Output: Total cars: 10"
      ],
      "metadata": {
        "colab": {
          "base_uri": "https://localhost:8080/"
        },
        "id": "OpzebcXg9ykD",
        "outputId": "543633c2-63fa-4681-882b-f87ccaf9f061"
      },
      "execution_count": 2,
      "outputs": [
        {
          "output_type": "stream",
          "name": "stdout",
          "text": [
            "Total cars: 10\n"
          ]
        }
      ]
    },
    {
      "cell_type": "markdown",
      "source": [
        "Q.4 How does Python implement method overloading? Give an example."
      ],
      "metadata": {
        "id": "pLJ5O7zM-Ds6"
      }
    },
    {
      "cell_type": "markdown",
      "source": [
        "Unlike some other languages (like Java), Python does not enable classical method overloading, which allows many methods to have the same name but distinct parameters. Python addresses this by enabling variable-length argument lists (args, *kwargs) and default arguments in a single procedure. In this manner, a single approach can be modified to fit many argument situations."
      ],
      "metadata": {
        "id": "EtgQdFQ0-N_V"
      }
    },
    {
      "cell_type": "code",
      "source": [
        "class Example:\n",
        "    def add(self, a, b=0, c=0):\n",
        "        return a + b + c\n",
        "\n",
        "obj = Example()\n",
        "print(obj.add(2))      # 2\n",
        "print(obj.add(2, 4))   # 6\n",
        "print(obj.add(2, 4, 6))# 12"
      ],
      "metadata": {
        "colab": {
          "base_uri": "https://localhost:8080/"
        },
        "id": "QhCQxw3p-UYe",
        "outputId": "3eaea3cb-934c-4f5b-8b51-14bc246c504e"
      },
      "execution_count": 3,
      "outputs": [
        {
          "output_type": "stream",
          "name": "stdout",
          "text": [
            "2\n",
            "6\n",
            "12\n"
          ]
        }
      ]
    },
    {
      "cell_type": "markdown",
      "source": [
        "Q.5 What are the three types of access modifiers in Python? How are they denoted?"
      ],
      "metadata": {
        "id": "USuBAHNX-k0x"
      }
    },
    {
      "cell_type": "markdown",
      "source": [
        "The three types of access modifiers are public, protected, and private, which control the accessibility of class members (variables and methods):\n",
        "\n",
        "Public: Accessible from anywhere, both inside and outside the class. Denoted with no underscores before the member name."
      ],
      "metadata": {
        "id": "V_a5154u-moa"
      }
    },
    {
      "cell_type": "code",
      "source": [
        "class Example:\n",
        "    def __init__(self):\n",
        "        self.protected_var = \"I am protected\"\n",
        "obj = Example()\n",
        "print(obj.protected_var)  # Accessible"
      ],
      "metadata": {
        "colab": {
          "base_uri": "https://localhost:8080/"
        },
        "id": "3dc8CjKx-rl5",
        "outputId": "c25d83bf-f3bc-4495-b005-4d63863aa20a"
      },
      "execution_count": 7,
      "outputs": [
        {
          "output_type": "stream",
          "name": "stdout",
          "text": [
            "I am protected\n"
          ]
        }
      ]
    },
    {
      "cell_type": "markdown",
      "source": [
        "Private: Accessible only within the class. Denoted with a double underscore (__)."
      ],
      "metadata": {
        "id": "eIAovCXf_Fr0"
      }
    },
    {
      "cell_type": "code",
      "source": [
        "class Example:\n",
        "    def __init__(self):\n",
        "        self.__private_var = \"I am private\""
      ],
      "metadata": {
        "id": "Coj0v1hM_GMV"
      },
      "execution_count": 8,
      "outputs": []
    },
    {
      "cell_type": "markdown",
      "source": [
        "Q.6 Describe the five types of inheritance in Python. Provide a simple example of multiple inheritance."
      ],
      "metadata": {
        "id": "xIshCScM_Rn6"
      }
    },
    {
      "cell_type": "markdown",
      "source": [
        "Inheritance allows a class to inherit properties and methods from another class. The five types of inheritance are:\n",
        "\n",
        "Single Inheritance: A child class inherits from a single parent class."
      ],
      "metadata": {
        "id": "eyBcleH2_Twe"
      }
    },
    {
      "cell_type": "code",
      "source": [
        "class Parent:\n",
        "    pass\n",
        "class Child(Parent):\n",
        "    pass"
      ],
      "metadata": {
        "id": "zn8PeFsa_Zhk"
      },
      "execution_count": 9,
      "outputs": []
    },
    {
      "cell_type": "markdown",
      "source": [
        "Multilevel Inheritance: A chain of inheritance where a class is derived from a class which is also derived from another."
      ],
      "metadata": {
        "id": "hKxasxZi_dCc"
      }
    },
    {
      "cell_type": "code",
      "source": [
        "class Grandparent:\n",
        "    pass\n",
        "class Parent(Grandparent):\n",
        "    pass\n",
        "class Child(Parent):\n",
        "    pass"
      ],
      "metadata": {
        "id": "I712Jb9X_eJJ"
      },
      "execution_count": null,
      "outputs": []
    },
    {
      "cell_type": "markdown",
      "source": [
        "Multiple Inheritance: A child class inherits from more than one parent class."
      ],
      "metadata": {
        "id": "IfCEVpJh_gsv"
      }
    },
    {
      "cell_type": "code",
      "source": [
        "class Parent1:\n",
        "    pass\n",
        "class Parent2:\n",
        "    pass\n",
        "class Child(Parent1, Parent2):\n",
        "    pass\n"
      ],
      "metadata": {
        "id": "nThsQdTU_hxW"
      },
      "execution_count": null,
      "outputs": []
    },
    {
      "cell_type": "markdown",
      "source": [
        "Hybrid Inheritance: A combination of two or more types of inheritance."
      ],
      "metadata": {
        "id": "K4ujjXUz_kgM"
      }
    },
    {
      "cell_type": "code",
      "source": [
        "class A:\n",
        "    def method_a(self):\n",
        "        print(\"Method 1\")\n",
        "\n",
        "class B:\n",
        "    def method_b(self):\n",
        "        print(\"Method 2\")\n",
        "\n",
        "class C(A, B):\n",
        "    pass\n",
        "\n",
        "obj = C()\n",
        "obj.method_a()  # Output: Method A\n",
        "obj.method_b()  # Output: Method B"
      ],
      "metadata": {
        "colab": {
          "base_uri": "https://localhost:8080/"
        },
        "id": "YhsbxqL0_n3b",
        "outputId": "40d54228-44f7-4641-b9ba-88a146bf0c19"
      },
      "execution_count": 10,
      "outputs": [
        {
          "output_type": "stream",
          "name": "stdout",
          "text": [
            "Method 1\n",
            "Method 2\n"
          ]
        }
      ]
    },
    {
      "cell_type": "markdown",
      "source": [
        "Hierarchical Inheritance: Multiple child classes inherit from the same parent class."
      ],
      "metadata": {
        "id": "IOF_T243_vy-"
      }
    },
    {
      "cell_type": "code",
      "source": [
        "class Parent:\n",
        "    pass\n",
        "class Child1(Parent):\n",
        "    pass\n",
        "class Child2(Parent):\n",
        "    pass\n"
      ],
      "metadata": {
        "id": "0QmQTrDy_yX9"
      },
      "execution_count": null,
      "outputs": []
    },
    {
      "cell_type": "markdown",
      "source": [
        "Q.7 What is the Method Resolution Order (MRO) in Python? How can you retrieve it programmatically?"
      ],
      "metadata": {
        "id": "uzBQi19r_17I"
      }
    },
    {
      "cell_type": "markdown",
      "source": [
        "In Python, when a method is executed in the context of multiple inheritance, the order in which base classes are searched is determined by the Method Resolution Order (MRO). By ensuring that methods are called in the proper order, it helps to prevent class conflicts. Python computes the MRO using the C3 linearization algorithm, which guarantees that subclasses overwrite base class methods while maintaining the proper hierarchy. The mro() function or the mro attribute can be used to programmatically retrieve a class's MRO."
      ],
      "metadata": {
        "id": "5L6blkBZ_82G"
      }
    },
    {
      "cell_type": "code",
      "source": [
        "class A:\n",
        "    pass\n",
        "\n",
        "class B(A):\n",
        "    pass\n",
        "\n",
        "class C(B):\n",
        "    pass\n",
        "\n",
        "print(C.mro())         # Method 1\n",
        "print(C.__mro__)       # Method 2"
      ],
      "metadata": {
        "colab": {
          "base_uri": "https://localhost:8080/"
        },
        "id": "IeHdPu90AEGd",
        "outputId": "42001f51-3138-4edb-9c24-5d6840f333dc"
      },
      "execution_count": 11,
      "outputs": [
        {
          "output_type": "stream",
          "name": "stdout",
          "text": [
            "[<class '__main__.C'>, <class '__main__.B'>, <class '__main__.A'>, <class 'object'>]\n",
            "(<class '__main__.C'>, <class '__main__.B'>, <class '__main__.A'>, <class 'object'>)\n"
          ]
        }
      ]
    },
    {
      "cell_type": "markdown",
      "source": [
        "Q.8 Create an abstract base class Shape with an abstract method area(). Then create two subclasses Circle and Rectangle that implement the area() method."
      ],
      "metadata": {
        "id": "TvhcK6M8AJrV"
      }
    },
    {
      "cell_type": "markdown",
      "source": [
        "A class that has one or more abstract methods—methods defined but not implemented—is known as an abstract base class (ABC) in Python. Such a class is intended to be subclassed, and the derived classes are required to implement its abstract methods. An abstract base class Shape with an abstract function area() is demonstrated in the Python code below. The area() function is implemented by the Circle and Rectangle subclasses in accordance with their respective geometrical formulas.This code uses the abstract method area() to define an abstract class Shape. The area() function is implemented by the subclasses Circle and Rectangle, which determine the area according to their respective shapes. The computation of the area for both shapes is illustrated by instances of each subclass."
      ],
      "metadata": {
        "id": "jiftvqo2AQ6V"
      }
    },
    {
      "cell_type": "code",
      "source": [
        "from abc import ABC, abstractmethod\n",
        "import math\n",
        "\n",
        "# Abstract Base Class\n",
        "class Shape(ABC):\n",
        "\n",
        "    @abstractmethod\n",
        "    def area(self):\n",
        "        pass\n",
        "\n",
        "# Subclass Circle\n",
        "class Circle(Shape):\n",
        "\n",
        "    def __init__(self, radius):\n",
        "        self.radius = radius\n",
        "\n",
        "    # Implementing the abstract method\n",
        "    def area(self):\n",
        "        return math.pi * (self.radius ** 2)\n",
        "\n",
        "# Subclass Rectangle\n",
        "class Rectangle(Shape):\n",
        "\n",
        "    def __init__(self, width, height):\n",
        "        self.width = width\n",
        "        self.height = height\n",
        "\n",
        "    # Implementing the abstract method\n",
        "    def area(self):\n",
        "        return self.width * self.height\n",
        "\n",
        "# Testing the implementation\n",
        "circle = Circle(5)\n",
        "rectangle = Rectangle(4, 6)\n",
        "\n",
        "print(f\"Circle area: {circle.area()}\")\n",
        "print(f\"Rectangle area: {rectangle.area()}\")\n"
      ],
      "metadata": {
        "colab": {
          "base_uri": "https://localhost:8080/"
        },
        "id": "lYlfV7mLAWS2",
        "outputId": "6411b4bd-ac6c-4f67-fbd3-963c4786805e"
      },
      "execution_count": 12,
      "outputs": [
        {
          "output_type": "stream",
          "name": "stdout",
          "text": [
            "Circle area: 78.53981633974483\n",
            "Rectangle area: 24\n"
          ]
        }
      ]
    },
    {
      "cell_type": "markdown",
      "source": [
        "Q.9 Demonstrate polymorphism by creating a function that can work with different shape objects to calculate and print their areas."
      ],
      "metadata": {
        "id": "Fzu6I53fAbqj"
      }
    },
    {
      "cell_type": "markdown",
      "source": [
        "Even though the names of the methods are the similar, polymorphism enables them to function differently depending on the object calling them. A Python implementation of polymorphism is shown below using a function that determines the area of various forms.This code defines the area() method for a base class Shape. To give their own area calculations, the three subclasses—Circle, Rectangle, and Triangle—override the area() function. By taking any shape object and invoking its area() method, the print_area() function illustrates polymorphism by printing the area for a variety of shapes."
      ],
      "metadata": {
        "id": "30G6-bQ5Apn8"
      }
    },
    {
      "cell_type": "code",
      "source": [
        "import math\n",
        "\n",
        "class Shape:\n",
        "    def area(self):\n",
        "        pass\n",
        "\n",
        "class Circle(Shape):\n",
        "    def __init__(self, radius):\n",
        "        self.radius = radius\n",
        "\n",
        "    def area(self):\n",
        "        return math.pi * (self.radius ** 2)\n",
        "\n",
        "class Rectangle(Shape):\n",
        "    def __init__(self, width, height):\n",
        "        self.width = width\n",
        "        self.height = height\n",
        "\n",
        "    def area(self):\n",
        "        return self.width * self.height\n",
        "\n",
        "class Triangle(Shape):\n",
        "    def __init__(self, base, height):\n",
        "        self.base = base\n",
        "        self.height = height\n",
        "\n",
        "    def area(self):\n",
        "        return 0.5 * self.base * self.height\n",
        "\n",
        "def print_area(shape):\n",
        "    print(f\"The area is: {shape.area()}\")\n",
        "\n",
        "# Example usage\n",
        "shapes = [Circle(7), Rectangle(9, 11), Triangle(5, 8)]\n",
        "for shape in shapes:\n",
        "    print_area(shape)\n"
      ],
      "metadata": {
        "colab": {
          "base_uri": "https://localhost:8080/"
        },
        "id": "Z9Q45LKJAvPG",
        "outputId": "66ec51d9-8232-4dc0-b089-4d6ab36b5488"
      },
      "execution_count": 13,
      "outputs": [
        {
          "output_type": "stream",
          "name": "stdout",
          "text": [
            "The area is: 153.93804002589985\n",
            "The area is: 99\n",
            "The area is: 20.0\n"
          ]
        }
      ]
    },
    {
      "cell_type": "markdown",
      "source": [
        "Q.10 Implement encapsulation in a BankAccount class with private attributes for balance and account_number. Include methods for deposit, withdrawal, and balance inquiry."
      ],
      "metadata": {
        "id": "ek03_27hA_-h"
      }
    },
    {
      "cell_type": "markdown",
      "source": [
        "This is a simple Python version of a BankAccount class that uses private attributes for balance and account_number to illustrate encapsulation. Methods for making deposits, withdrawals, and balance inquiries are covered in this lesson. Since __account_number and __balance are private attributes in this implementation, access to them from outside the class is prohibited. These properties are handled by the deposit, withdraw, and get_balance functions."
      ],
      "metadata": {
        "id": "aiUFxI7gBHpn"
      }
    },
    {
      "cell_type": "code",
      "source": [
        "class BankAccount:\n",
        "    def __init__(self, account_number, initial_balance=0):\n",
        "        self.__account_number = account_number  # Private attribute\n",
        "        self.__balance = initial_balance         # Private attribute\n",
        "\n",
        "    def deposit(self, amount):\n",
        "        if amount > 0:\n",
        "            self.__balance += amount\n",
        "            print(f\"Deposited: ${amount}. New balance: ${self.__balance}.\")\n",
        "        else:\n",
        "            print(\"Deposit amount must be positive.\")\n",
        "\n",
        "    def withdraw(self, amount):\n",
        "        if 0 < amount <= self.__balance:\n",
        "            self.__balance -= amount\n",
        "            print(f\"Withdrew: ${amount}. New balance: ${self.__balance}.\")\n",
        "        else:\n",
        "            print(\"Invalid withdrawal amount.\")\n",
        "\n",
        "    def get_balance(self):\n",
        "        return self.__balance\n",
        "\n",
        "# Example usage:\n",
        "account = BankAccount(\"123456789\", 1000)\n",
        "account.deposit(500)\n",
        "account.withdraw(200)\n",
        "print(f\"Account balance: ${account.get_balance()}\")"
      ],
      "metadata": {
        "colab": {
          "base_uri": "https://localhost:8080/"
        },
        "id": "U0aRqQWOBMZe",
        "outputId": "51a2b7f2-d5f2-4766-a088-e0ae42fde123"
      },
      "execution_count": 14,
      "outputs": [
        {
          "output_type": "stream",
          "name": "stdout",
          "text": [
            "Deposited: $500. New balance: $1500.\n",
            "Withdrew: $200. New balance: $1300.\n",
            "Account balance: $1300\n"
          ]
        }
      ]
    },
    {
      "cell_type": "markdown",
      "source": [
        "Q.11 . Write a class that overrides the str and add magic methods. What will these methods allow you to do?"
      ],
      "metadata": {
        "id": "Fl3jqDDQBQYv"
      }
    },
    {
      "cell_type": "markdown",
      "source": [
        "Consider the straightforward class Vector to show how to introduce magic methods and override the str in a class. An object can be represented as a custom string using the str method, and two objects of the same class can be added using the add method. In this particular implementation:\n",
        "\n",
        "str: A readable string representing the Vector instance is returned by this method. Instead of the usual object representation, Vector(2, 3) is displayed when print(v1) is called.\n",
        "\n",
        "add: Two Vector instances can be added using this method. Operator overloading is demonstrated when v1 + v2 is executed, returning a new Vector instance with the summed x and y values.\n",
        "\n",
        "When combined, these strategies improve the class's readability and usability."
      ],
      "metadata": {
        "id": "X5TYnZ_XBmp0"
      }
    },
    {
      "cell_type": "code",
      "source": [
        "class Vector:\n",
        "    def __init__(self, x, y):\n",
        "        self.x = x\n",
        "        self.y = y\n",
        "\n",
        "    def __str__(self):\n",
        "        return f\"Vector({self.x}, {self.y})\"\n",
        "\n",
        "    def __add__(self, other):\n",
        "        if isinstance(other, Vector):\n",
        "            return Vector(self.x + other.x, self.y + other.y)\n",
        "        return NotImplemented\n",
        "\n",
        "# Usage\n",
        "v1 = Vector(56, 34)\n",
        "v2 = Vector(44, 58)\n",
        "print(v1)           # Output: Vector(56, 34)\n",
        "print(v1 + v2)     # Output: Vector(100, 92)"
      ],
      "metadata": {
        "colab": {
          "base_uri": "https://localhost:8080/"
        },
        "id": "lN-BqxI5Bts1",
        "outputId": "583109b5-c46c-49cb-82e7-807e16c0de26"
      },
      "execution_count": 15,
      "outputs": [
        {
          "output_type": "stream",
          "name": "stdout",
          "text": [
            "Vector(56, 34)\n",
            "Vector(100, 92)\n"
          ]
        }
      ]
    },
    {
      "cell_type": "markdown",
      "source": [
        "Q.12 Create a decorator that measures and prints the execution time of a function."
      ],
      "metadata": {
        "id": "hnHLeJUCB5Z9"
      }
    },
    {
      "cell_type": "markdown",
      "source": [
        "Here's a simple Python decorator that measures and prints the execution time of a function. This decorator can be applied to any function, allowing anyone to track how long it takes to execute."
      ],
      "metadata": {
        "id": "35w6DhnhB9pt"
      }
    },
    {
      "cell_type": "code",
      "source": [
        "import time\n",
        "\n",
        "def time_it(func):\n",
        "    \"\"\"Decorator to measure the execution time of a function.\"\"\"\n",
        "    def wrapper(*args, **kwargs):\n",
        "        start_time = time.time()  # Record the start time\n",
        "        result = func(*args, **kwargs)  # Call the original function\n",
        "        end_time = time.time()  # Record the end time\n",
        "        execution_time = end_time - start_time  # Calculate execution time\n",
        "        print(f\"Execution time for '{func.__name__}': {execution_time:.4f} seconds\")\n",
        "        return result  # Return the result of the function\n",
        "    return wrapper\n",
        "\n",
        "# Example usage\n",
        "@time_it\n",
        "def example_function(n):\n",
        "    \"\"\"Simulate a function that takes time to run.\"\"\"\n",
        "    total = 0\n",
        "    for i in range(n):\n",
        "        total += i\n",
        "    return total\n",
        "\n",
        "# Calling the decorated function\n",
        "example_function(1000000)\n"
      ],
      "metadata": {
        "colab": {
          "base_uri": "https://localhost:8080/"
        },
        "id": "rxNWPznyB-Z8",
        "outputId": "56a82844-4d1c-430b-d5cd-1aa9f36ead57"
      },
      "execution_count": 16,
      "outputs": [
        {
          "output_type": "stream",
          "name": "stdout",
          "text": [
            "Execution time for 'example_function': 0.0859 seconds\n"
          ]
        },
        {
          "output_type": "execute_result",
          "data": {
            "text/plain": [
              "499999500000"
            ]
          },
          "metadata": {},
          "execution_count": 16
        }
      ]
    },
    {
      "cell_type": "markdown",
      "source": [
        "Q.13 Explain the concept of the Diamond Problem in multiple inheritance. How does Python resolve it?"
      ],
      "metadata": {
        "id": "zcQn8D3vCHTM"
      }
    },
    {
      "cell_type": "markdown",
      "source": [
        "The  Problem arises in multiple inheritance when a class inherits from two classes that both inherit from a common base class. This can create ambiguity in method resolution, as the derived class may inherit multiple definitions of the same method or attribute from the parent classes."
      ],
      "metadata": {
        "id": "GMwuX5uZCIuW"
      }
    },
    {
      "cell_type": "code",
      "source": [
        "class A:\n",
        "    def greet(self):\n",
        "        return \"Hello from A\"\n",
        "\n",
        "class B(A):\n",
        "    def greet(self):\n",
        "        return \"Hello from B\"\n",
        "\n",
        "class C(A):\n",
        "    def greet(self):\n",
        "        return \"Hello from C\"\n",
        "\n",
        "class D(B, C):\n",
        "    pass\n",
        "\n",
        "d = D()\n",
        "print(d.greet())  # Output: Hello from B"
      ],
      "metadata": {
        "colab": {
          "base_uri": "https://localhost:8080/"
        },
        "id": "M0RY6VuBCLlI",
        "outputId": "c29bfeb0-99e9-4ac0-868d-fe8c2b058b15"
      },
      "execution_count": 18,
      "outputs": [
        {
          "output_type": "stream",
          "name": "stdout",
          "text": [
            "Hello from B\n"
          ]
        }
      ]
    },
    {
      "cell_type": "markdown",
      "source": [
        "Q.14 Write a class method that keeps track of the number of instances created from a class."
      ],
      "metadata": {
        "id": "3HyrObvCCW1c"
      }
    },
    {
      "cell_type": "markdown",
      "source": [
        "keep track of the number of instances created from a class in Python, one can use a class variable that increments every time a new instance is initialized. Here’s a simple example of how to implement this:\n",
        "\n"
      ],
      "metadata": {
        "id": "0ntOhuIOCY79"
      }
    },
    {
      "cell_type": "code",
      "source": [
        "class InstanceCounter:\n",
        "    # Class variable to keep track of the number of instances\n",
        "    instance_count = 0\n",
        "\n",
        "    def __init__(self):\n",
        "        # Increment the instance count every time a new instance is created\n",
        "        InstanceCounter.instance_count += 1\n",
        "\n",
        "    @classmethod\n",
        "    def get_instance_count(cls):\n",
        "        \"\"\"Class method to get the current number of instances.\"\"\"\n",
        "        return cls.instance_count\n",
        "\n",
        "# Example usage\n",
        "if __name__ == \"__main__\":\n",
        "    obj1 = InstanceCounter()\n",
        "    obj2 = InstanceCounter()\n",
        "    obj3 = InstanceCounter()\n",
        "\n",
        "    print(f\"Number of instances created: {InstanceCounter.get_instance_count()}\")"
      ],
      "metadata": {
        "colab": {
          "base_uri": "https://localhost:8080/"
        },
        "id": "9Zp1L_svCkl0",
        "outputId": "53a021b0-ec7b-43b7-a8e5-3bd20067c91c"
      },
      "execution_count": 19,
      "outputs": [
        {
          "output_type": "stream",
          "name": "stdout",
          "text": [
            "Number of instances created: 3\n"
          ]
        }
      ]
    },
    {
      "cell_type": "markdown",
      "source": [
        "Q.15 Implement a static method in a class that checks if a given year is a leap year."
      ],
      "metadata": {
        "id": "GtEhMcoiCnnG"
      }
    },
    {
      "cell_type": "code",
      "source": [
        "class YearChecker:\n",
        "    @staticmethod\n",
        "    def is_leap_year(year):\n",
        "        \"\"\"\n",
        "        Check if the given year is a leap year.\n",
        "\n",
        "        A year is a leap year if:\n",
        "        - It is divisible by 4.\n",
        "        - If it is divisible by 100, it must also be divisible by 400.\n",
        "\n",
        "        Parameters:\n",
        "        year (int): The year to check.\n",
        "\n",
        "        Returns:\n",
        "        bool: True if the year is a leap year, False otherwise.\n",
        "        \"\"\"\n",
        "        if year % 4 == 0:\n",
        "            if year % 100 == 0:\n",
        "                if year % 400 == 0:\n",
        "                    return True  # Divisible by 400\n",
        "                else:\n",
        "                    return False  # Divisible by 100 but not by 400\n",
        "            return True  # Divisible by 4 but not by 100\n",
        "        return False  # Not divisible by 4\n",
        "\n",
        "# Example usage:\n",
        "year = 2024\n",
        "if YearChecker.is_leap_year(year):\n",
        "    print(f\"{year} is a leap year.\")\n",
        "else:\n",
        "    print(f\"{year} is not a leap year.\")"
      ],
      "metadata": {
        "colab": {
          "base_uri": "https://localhost:8080/"
        },
        "id": "JeG-P0fhCsFW",
        "outputId": "b3559a35-e16b-4bc4-fcf8-b62e22eb02ea"
      },
      "execution_count": 20,
      "outputs": [
        {
          "output_type": "stream",
          "name": "stdout",
          "text": [
            "2024 is a leap year.\n"
          ]
        }
      ]
    }
  ]
}